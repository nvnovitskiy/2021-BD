{
  "cells": [
    {
      "cell_type": "markdown",
      "source": [
        "## 1. Установка PySpark"
      ],
      "metadata": {
        "id": "lH474LjqqseU"
      }
    },
    {
      "cell_type": "code",
      "source": [
        "!pip install pyspark"
      ],
      "metadata": {
        "colab": {
          "base_uri": "https://localhost:8080/"
        },
        "id": "HnmuJZXtyx29",
        "outputId": "c0438e0d-4e3b-470f-d843-fadf7e9af93f"
      },
      "execution_count": 1,
      "outputs": [
        {
          "output_type": "stream",
          "name": "stdout",
          "text": [
            "Requirement already satisfied: pyspark in /usr/local/lib/python3.7/dist-packages (3.2.0)\n",
            "Requirement already satisfied: py4j==0.10.9.2 in /usr/local/lib/python3.7/dist-packages (from pyspark) (0.10.9.2)\n"
          ]
        }
      ]
    },
    {
      "cell_type": "markdown",
      "source": [
        "## 2. Импорт необходимых библиотек и создание проекта"
      ],
      "metadata": {
        "id": "JRtucQkFqxp0"
      }
    },
    {
      "cell_type": "code",
      "execution_count": 2,
      "metadata": {
        "id": "bDS2l4l5Aphq"
      },
      "outputs": [],
      "source": [
        "import pyspark\n",
        "from pyspark import SparkContext, SparkConf"
      ]
    },
    {
      "cell_type": "code",
      "execution_count": 3,
      "metadata": {
        "id": "kLzSoc2DCwAw"
      },
      "outputs": [],
      "source": [
        "sc = SparkContext(conf=SparkConf().setAppName(\"L1\").setMaster(\"local[*]\"))"
      ]
    },
    {
      "cell_type": "code",
      "execution_count": 4,
      "metadata": {
        "colab": {
          "base_uri": "https://localhost:8080/",
          "height": 196
        },
        "id": "zEjEDQXdCzOg",
        "outputId": "0eabbd26-24e7-4d83-aaf2-293345ef3647"
      },
      "outputs": [
        {
          "output_type": "execute_result",
          "data": {
            "text/html": [
              "\n",
              "        <div>\n",
              "            <p><b>SparkContext</b></p>\n",
              "\n",
              "            <p><a href=\"http://721093c2bb4b:4040\">Spark UI</a></p>\n",
              "\n",
              "            <dl>\n",
              "              <dt>Version</dt>\n",
              "                <dd><code>v3.2.0</code></dd>\n",
              "              <dt>Master</dt>\n",
              "                <dd><code>local[*]</code></dd>\n",
              "              <dt>AppName</dt>\n",
              "                <dd><code>L1</code></dd>\n",
              "            </dl>\n",
              "        </div>\n",
              "        "
            ],
            "text/plain": [
              "<SparkContext master=local[*] appName=L1>"
            ]
          },
          "metadata": {},
          "execution_count": 4
        }
      ],
      "source": [
        "sc"
      ]
    },
    {
      "cell_type": "markdown",
      "source": [
        "## 3. Считываем данные"
      ],
      "metadata": {
        "id": "-4N_KUmZq6qp"
      }
    },
    {
      "cell_type": "code",
      "execution_count": 5,
      "metadata": {
        "id": "u6zmh_CtFg7e"
      },
      "outputs": [],
      "source": [
        "data_trip = sc.textFile(\"/content/data/trips.csv\")\n",
        "data_station = sc.textFile(\"/content/data/stations.csv\")"
      ]
    },
    {
      "cell_type": "markdown",
      "source": [
        "## 4. Предобработка данных"
      ],
      "metadata": {
        "id": "5mfblq_cq-mN"
      }
    },
    {
      "cell_type": "code",
      "source": [
        "trip_header=data_trip.first()\n",
        "station_header=data_station.first()"
      ],
      "metadata": {
        "id": "YAkRHTyxslLc"
      },
      "execution_count": 6,
      "outputs": []
    },
    {
      "cell_type": "code",
      "execution_count": 7,
      "metadata": {
        "id": "zzZXtvl5HAWX"
      },
      "outputs": [],
      "source": [
        "trips=data_trip.filter(lambda x: x != trip_header).map(lambda x: x.split(\",\"))\n",
        "stations=data_station.filter(lambda x: x != station_header).map(lambda x: x.split(\",\"))"
      ]
    },
    {
      "cell_type": "code",
      "execution_count": 8,
      "metadata": {
        "colab": {
          "base_uri": "https://localhost:8080/"
        },
        "id": "EO5LlI-zHKyG",
        "outputId": "41e8862e-6530-4726-f7e3-275468e5ea85"
      },
      "outputs": [
        {
          "output_type": "execute_result",
          "data": {
            "text/plain": [
              "[['4576',\n",
              "  '63',\n",
              "  '',\n",
              "  'South Van Ness at Market',\n",
              "  '66',\n",
              "  '8/29/2013 14:14',\n",
              "  'South Van Ness at Market',\n",
              "  '66',\n",
              "  '520',\n",
              "  'Subscriber',\n",
              "  '94127'],\n",
              " ['4607',\n",
              "  '',\n",
              "  '8/29/2013 14:42',\n",
              "  'San Jose City Hall',\n",
              "  '10',\n",
              "  '8/29/2013 14:43',\n",
              "  'San Jose City Hall',\n",
              "  '10',\n",
              "  '661',\n",
              "  'Subscriber',\n",
              "  '95138'],\n",
              " ['4130',\n",
              "  '71',\n",
              "  '8/29/2013 10:16',\n",
              "  'Mountain View City Hall',\n",
              "  '27',\n",
              "  '8/29/2013 10:17',\n",
              "  'Mountain View City Hall',\n",
              "  '27',\n",
              "  '48',\n",
              "  'Subscriber',\n",
              "  '97214']]"
            ]
          },
          "metadata": {},
          "execution_count": 8
        }
      ],
      "source": [
        "trips.take(3)"
      ]
    },
    {
      "cell_type": "code",
      "execution_count": 9,
      "metadata": {
        "colab": {
          "base_uri": "https://localhost:8080/"
        },
        "id": "UE_DbE3tHMmT",
        "outputId": "08113831-839f-4b15-bc57-dbd60c993a1f"
      },
      "outputs": [
        {
          "output_type": "execute_result",
          "data": {
            "text/plain": [
              "[['2',\n",
              "  'San Jose Diridon Caltrain Station',\n",
              "  '37.329732',\n",
              "  '-121.90178200000001',\n",
              "  '27',\n",
              "  'San Jose',\n",
              "  '8/6/2013'],\n",
              " ['3',\n",
              "  'San Jose Civic Center',\n",
              "  '37.330698',\n",
              "  '-121.888979',\n",
              "  '15',\n",
              "  'San Jose',\n",
              "  '8/5/2013'],\n",
              " ['4',\n",
              "  'Santa Clara at Almaden',\n",
              "  '37.333988',\n",
              "  '-121.894902',\n",
              "  '11',\n",
              "  'San Jose',\n",
              "  '8/6/2013']]"
            ]
          },
          "metadata": {},
          "execution_count": 9
        }
      ],
      "source": [
        "stations.take(3)"
      ]
    },
    {
      "cell_type": "code",
      "execution_count": 10,
      "metadata": {
        "id": "r4hrxJwbHp-T"
      },
      "outputs": [],
      "source": [
        "# Индексирование по нулевому элементу\n",
        "station_idx = stations.keyBy(lambda x: int(x[0]))"
      ]
    },
    {
      "cell_type": "code",
      "execution_count": 11,
      "metadata": {
        "colab": {
          "base_uri": "https://localhost:8080/"
        },
        "id": "S59MdXBJIXnG",
        "outputId": "b530da7b-02a7-4232-9422-4e2fd86deebb"
      },
      "outputs": [
        {
          "output_type": "execute_result",
          "data": {
            "text/plain": [
              "[(2,\n",
              "  ['2',\n",
              "   'San Jose Diridon Caltrain Station',\n",
              "   '37.329732',\n",
              "   '-121.90178200000001',\n",
              "   '27',\n",
              "   'San Jose',\n",
              "   '8/6/2013']),\n",
              " (3,\n",
              "  ['3',\n",
              "   'San Jose Civic Center',\n",
              "   '37.330698',\n",
              "   '-121.888979',\n",
              "   '15',\n",
              "   'San Jose',\n",
              "   '8/5/2013']),\n",
              " (4,\n",
              "  ['4',\n",
              "   'Santa Clara at Almaden',\n",
              "   '37.333988',\n",
              "   '-121.894902',\n",
              "   '11',\n",
              "   'San Jose',\n",
              "   '8/6/2013'])]"
            ]
          },
          "metadata": {},
          "execution_count": 11
        }
      ],
      "source": [
        "station_idx.take(3)"
      ]
    },
    {
      "cell_type": "code",
      "execution_count": 12,
      "metadata": {
        "id": "CgP2Tm1QIZah"
      },
      "outputs": [],
      "source": [
        "# Индексирование по начальной и конечной станции\n",
        "trips_start = trips.keyBy(lambda x: x[3])\n",
        "trips_end = trips.keyBy(lambda x: x[6])"
      ]
    },
    {
      "cell_type": "code",
      "execution_count": 13,
      "metadata": {
        "colab": {
          "base_uri": "https://localhost:8080/"
        },
        "id": "wQNpEHtSIrDc",
        "outputId": "7402b7d0-bff6-476c-bd20-cec2f5753238"
      },
      "outputs": [
        {
          "output_type": "execute_result",
          "data": {
            "text/plain": [
              "([('South Van Ness at Market',\n",
              "   ['4576',\n",
              "    '63',\n",
              "    '',\n",
              "    'South Van Ness at Market',\n",
              "    '66',\n",
              "    '8/29/2013 14:14',\n",
              "    'South Van Ness at Market',\n",
              "    '66',\n",
              "    '520',\n",
              "    'Subscriber',\n",
              "    '94127']),\n",
              "  ('San Jose City Hall',\n",
              "   ['4607',\n",
              "    '',\n",
              "    '8/29/2013 14:42',\n",
              "    'San Jose City Hall',\n",
              "    '10',\n",
              "    '8/29/2013 14:43',\n",
              "    'San Jose City Hall',\n",
              "    '10',\n",
              "    '661',\n",
              "    'Subscriber',\n",
              "    '95138']),\n",
              "  ('Mountain View City Hall',\n",
              "   ['4130',\n",
              "    '71',\n",
              "    '8/29/2013 10:16',\n",
              "    'Mountain View City Hall',\n",
              "    '27',\n",
              "    '8/29/2013 10:17',\n",
              "    'Mountain View City Hall',\n",
              "    '27',\n",
              "    '48',\n",
              "    'Subscriber',\n",
              "    '97214'])],\n",
              " [('South Van Ness at Market',\n",
              "   ['4576',\n",
              "    '63',\n",
              "    '',\n",
              "    'South Van Ness at Market',\n",
              "    '66',\n",
              "    '8/29/2013 14:14',\n",
              "    'South Van Ness at Market',\n",
              "    '66',\n",
              "    '520',\n",
              "    'Subscriber',\n",
              "    '94127']),\n",
              "  ('San Jose City Hall',\n",
              "   ['4607',\n",
              "    '',\n",
              "    '8/29/2013 14:42',\n",
              "    'San Jose City Hall',\n",
              "    '10',\n",
              "    '8/29/2013 14:43',\n",
              "    'San Jose City Hall',\n",
              "    '10',\n",
              "    '661',\n",
              "    'Subscriber',\n",
              "    '95138']),\n",
              "  ('Mountain View City Hall',\n",
              "   ['4130',\n",
              "    '71',\n",
              "    '8/29/2013 10:16',\n",
              "    'Mountain View City Hall',\n",
              "    '27',\n",
              "    '8/29/2013 10:17',\n",
              "    'Mountain View City Hall',\n",
              "    '27',\n",
              "    '48',\n",
              "    'Subscriber',\n",
              "    '97214'])])"
            ]
          },
          "metadata": {},
          "execution_count": 13
        }
      ],
      "source": [
        "trips_start.take(3), trips_end.take(3)"
      ]
    },
    {
      "cell_type": "code",
      "execution_count": 14,
      "metadata": {
        "id": "XV09w-6CIuf5"
      },
      "outputs": [],
      "source": [
        "# Объединение по ключу\n",
        "start_trips = station_idx.join(trips_start)\n",
        "end_trips = station_idx.join(trips_end)"
      ]
    },
    {
      "cell_type": "markdown",
      "source": [
        "## 5. Создание модели для Trip & Station"
      ],
      "metadata": {
        "id": "LzuX4CGCrDUS"
      }
    },
    {
      "cell_type": "code",
      "execution_count": 15,
      "metadata": {
        "id": "wBv-LsXAJOFc"
      },
      "outputs": [],
      "source": [
        "from typing import NamedTuple\n",
        "from datetime import datetime\n",
        "from functools import reduce"
      ]
    },
    {
      "cell_type": "code",
      "execution_count": 16,
      "metadata": {
        "id": "Fcq6xzTxJ3YL"
      },
      "outputs": [],
      "source": [
        "def initStation(stations):\n",
        "    class Station(NamedTuple):\n",
        "        station_id: int\n",
        "        name: str\n",
        "        lat: float\n",
        "        long: float\n",
        "        dockcount: int\n",
        "        landmark: str\n",
        "        installation: str\n",
        "    \n",
        "    for station in stations:\n",
        "        yield Station(\n",
        "            station_id = int(station[0]),\n",
        "            name = station[1],\n",
        "            lat = float(station[2]),\n",
        "            long = float(station[3]),\n",
        "            dockcount = int(station[4]),\n",
        "            landmark = station[5],\n",
        "            installation = datetime.strptime(station[6], '%m/%d/%Y')\n",
        "        )\n",
        "\n",
        "def initTrip(trips):\n",
        "    class Trip(NamedTuple):\n",
        "        trip_id: int\n",
        "        duration: int\n",
        "        start_date: datetime\n",
        "        start_station_name: str\n",
        "        start_station_id: int\n",
        "        end_date: datetime\n",
        "        end_station_name: str\n",
        "        end_station_id: int\n",
        "        bike_id: int\n",
        "        subscription_type: str\n",
        "        zip_code: str\n",
        "        \n",
        "    for trip in trips:\n",
        "        try:\n",
        "            yield Trip(                             \n",
        "             trip_id = int(trip[0]),\n",
        "             duration = int(trip[1]),\n",
        "             start_date = datetime.strptime(trip[2], '%m/%d/%Y %H:%M'),\n",
        "             start_station_name = trip[3],\n",
        "             start_station_id = int(trip[4]),\n",
        "             end_date = datetime.strptime(trip[5], '%m/%d/%Y %H:%M'),\n",
        "             end_station_name = trip[6],\n",
        "             end_station_id = trip[7],\n",
        "             bike_id = int(trip[8]),\n",
        "             subscription_type = trip[9],\n",
        "             zip_code = trip[10]\n",
        "            ) \n",
        "        except:\n",
        "            pass"
      ]
    },
    {
      "cell_type": "code",
      "execution_count": 17,
      "metadata": {
        "id": "_n39GrHeKx6X"
      },
      "outputs": [],
      "source": [
        "# Применяем модель данных для Stations\n",
        "stations_ = stations.mapPartitions(initStation)"
      ]
    },
    {
      "cell_type": "code",
      "execution_count": 18,
      "metadata": {
        "colab": {
          "base_uri": "https://localhost:8080/"
        },
        "id": "mXZkAF7tLCik",
        "outputId": "ed1e6701-4843-46b9-8bae-0c9358ea08cf"
      },
      "outputs": [
        {
          "output_type": "execute_result",
          "data": {
            "text/plain": [
              "Station(station_id=2, name='San Jose Diridon Caltrain Station', lat=37.329732, long=-121.90178200000001, dockcount=27, landmark='San Jose', installation=datetime.datetime(2013, 8, 6, 0, 0))"
            ]
          },
          "metadata": {},
          "execution_count": 18
        }
      ],
      "source": [
        "stations_.first()"
      ]
    },
    {
      "cell_type": "code",
      "execution_count": 19,
      "metadata": {
        "id": "gomSBKpYLX5E"
      },
      "outputs": [],
      "source": [
        "# Применяем модель данных для Trip\n",
        "trips_= trips.mapPartitions(initTrip)"
      ]
    },
    {
      "cell_type": "code",
      "execution_count": 20,
      "metadata": {
        "colab": {
          "base_uri": "https://localhost:8080/"
        },
        "id": "E3B-RfcqLgzt",
        "outputId": "f3cb326e-c595-4090-8233-49e666020bb6"
      },
      "outputs": [
        {
          "output_type": "execute_result",
          "data": {
            "text/plain": [
              "Trip(trip_id=4130, duration=71, start_date=datetime.datetime(2013, 8, 29, 10, 16), start_station_name='Mountain View City Hall', start_station_id=27, end_date=datetime.datetime(2013, 8, 29, 10, 17), end_station_name='Mountain View City Hall', end_station_id='27', bike_id=48, subscription_type='Subscriber', zip_code='97214')"
            ]
          },
          "metadata": {},
          "execution_count": 20
        }
      ],
      "source": [
        "trips_.first()"
      ]
    },
    {
      "cell_type": "code",
      "execution_count": 21,
      "metadata": {
        "id": "Q3OX1rz1MLet"
      },
      "outputs": [],
      "source": [
        "trips_start = trips_.keyBy(lambda x: x.start_station_name)"
      ]
    },
    {
      "cell_type": "code",
      "execution_count": 22,
      "metadata": {
        "id": "rVa9NihaNbxa"
      },
      "outputs": [],
      "source": [
        "# Расчет среденего времени для каждого парковочного места\n",
        "avg = trips_start.mapValues(lambda x: x.duration).groupByKey()\\\n",
        ".mapValues(lambda y: reduce(lambda a, b: (a+b), y)/len(y))"
      ]
    },
    {
      "cell_type": "code",
      "execution_count": 23,
      "metadata": {
        "colab": {
          "base_uri": "https://localhost:8080/"
        },
        "id": "RzCmdjipN4qM",
        "outputId": "ba23370e-b1d6-4215-bf89-846d8a8aef1d"
      },
      "outputs": [
        {
          "output_type": "execute_result",
          "data": {
            "text/plain": [
              "[('University and Emerson', 7090.239417989418),\n",
              " ('California Ave Caltrain Station', 4628.005847953216),\n",
              " ('Redwood City Public Library', 4579.234741784037),\n",
              " ('Park at Olive', 4438.1613333333335),\n",
              " ('San Jose Civic Center', 4208.016938519448),\n",
              " ('Rengstorff Avenue / California Street', 4174.082373782108),\n",
              " ('Redwood City Medical Center', 3959.491961414791),\n",
              " ('Palo Alto Caltrain Station', 3210.6489815253435),\n",
              " ('San Mateo County Center', 2716.7700348432054),\n",
              " ('Broadway at Main', 2481.2537313432836)]"
            ]
          },
          "metadata": {},
          "execution_count": 23
        }
      ],
      "source": [
        "avg.top(10, lambda x: x[1])"
      ]
    },
    {
      "cell_type": "code",
      "execution_count": 24,
      "metadata": {
        "id": "chRFoAMsN73-"
      },
      "outputs": [],
      "source": [
        "# Найдем первую поездку для каждой из стоянок\n",
        "first_trip = trips_start.reduceByKey(lambda x, y: x if x.start_date < y.start_date else y)"
      ]
    },
    {
      "cell_type": "code",
      "execution_count": 25,
      "metadata": {
        "colab": {
          "base_uri": "https://localhost:8080/"
        },
        "id": "R-N820NbOX4I",
        "outputId": "da9cb17e-758e-46dc-8886-5132eacb0435"
      },
      "outputs": [
        {
          "output_type": "execute_result",
          "data": {
            "text/plain": [
              "[('South Van Ness at Market',\n",
              "  Trip(trip_id=4074, duration=1131, start_date=datetime.datetime(2013, 8, 29, 9, 24), start_station_name='South Van Ness at Market', start_station_id=66, end_date=datetime.datetime(2013, 8, 29, 9, 43), end_station_name='San Francisco Caltrain 2 (330 Townsend)', end_station_id='69', bike_id=317, subscription_type='Subscriber', zip_code='94115')),\n",
              " ('Santa Clara at Almaden',\n",
              "  Trip(trip_id=4500, duration=109, start_date=datetime.datetime(2013, 8, 29, 13, 25), start_station_name='Santa Clara at Almaden', start_station_id=4, end_date=datetime.datetime(2013, 8, 29, 13, 27), end_station_name='Adobe on Almaden', end_station_id='5', bike_id=679, subscription_type='Subscriber', zip_code='95112')),\n",
              " ('Clay at Battery',\n",
              "  Trip(trip_id=4283, duration=1712, start_date=datetime.datetime(2013, 8, 29, 11, 55), start_station_name='Clay at Battery', start_station_id=41, end_date=datetime.datetime(2013, 8, 29, 12, 23), end_station_name='Harry Bridges Plaza (Ferry Building)', end_station_id='50', bike_id=544, subscription_type='Subscriber', zip_code='94070')),\n",
              " ('Market at 10th',\n",
              "  Trip(trip_id=4206, duration=1066, start_date=datetime.datetime(2013, 8, 29, 11, 9), start_station_name='Market at 10th', start_station_id=67, end_date=datetime.datetime(2013, 8, 29, 11, 27), end_station_name='Steuart at Market', end_station_id='74', bike_id=632, subscription_type='Customer', zip_code='98034')),\n",
              " ('Powell Street BART',\n",
              "  Trip(trip_id=4225, duration=21612, start_date=datetime.datetime(2013, 8, 29, 11, 18), start_station_name='Powell Street BART', start_station_id=39, end_date=datetime.datetime(2013, 8, 29, 17, 18), end_station_name='Market at 10th', end_station_id='67', bike_id=464, subscription_type='Customer', zip_code='58553')),\n",
              " ('Japantown',\n",
              "  Trip(trip_id=4310, duration=537, start_date=datetime.datetime(2013, 8, 29, 12, 5), start_station_name='Japantown', start_station_id=9, end_date=datetime.datetime(2013, 8, 29, 12, 14), end_station_name='Japantown', end_station_id='9', bike_id=638, subscription_type='Subscriber', zip_code='95112')),\n",
              " ('2nd at Townsend',\n",
              "  Trip(trip_id=4276, duration=173, start_date=datetime.datetime(2013, 8, 29, 11, 45), start_station_name='2nd at Townsend', start_station_id=61, end_date=datetime.datetime(2013, 8, 29, 11, 48), end_station_name='2nd at South Park', end_station_id='64', bike_id=280, subscription_type='Customer', zip_code='95819')),\n",
              " ('Civic Center BART (7th at Market)',\n",
              "  Trip(trip_id=4378, duration=173, start_date=datetime.datetime(2013, 8, 29, 12, 27), start_station_name='Civic Center BART (7th at Market)', start_station_id=72, end_date=datetime.datetime(2013, 8, 29, 12, 30), end_station_name='Civic Center BART (7th at Market)', end_station_id='72', bike_id=374, subscription_type='Subscriber', zip_code='94110')),\n",
              " ('Commercial at Montgomery',\n",
              "  Trip(trip_id=4086, duration=178, start_date=datetime.datetime(2013, 8, 29, 9, 42), start_station_name='Commercial at Montgomery', start_station_id=45, end_date=datetime.datetime(2013, 8, 29, 9, 45), end_station_name='Commercial at Montgomery', end_station_id='45', bike_id=379, subscription_type='Subscriber', zip_code='94402')),\n",
              " ('Market at 4th',\n",
              "  Trip(trip_id=4134, duration=574, start_date=datetime.datetime(2013, 8, 29, 10, 19), start_station_name='Market at 4th', start_station_id=76, end_date=datetime.datetime(2013, 8, 29, 10, 29), end_station_name='2nd at South Park', end_station_id='64', bike_id=426, subscription_type='Customer', zip_code='94117')),\n",
              " ('Washington at Kearney',\n",
              "  Trip(trip_id=4400, duration=189, start_date=datetime.datetime(2013, 8, 29, 12, 39), start_station_name='Washington at Kearney', start_station_id=46, end_date=datetime.datetime(2013, 8, 29, 12, 42), end_station_name='Clay at Battery', end_station_id='41', bike_id=619, subscription_type='Subscriber', zip_code='94609')),\n",
              " ('Powell at Post (Union Square)',\n",
              "  Trip(trip_id=4431, duration=980, start_date=datetime.datetime(2013, 8, 29, 12, 54), start_station_name='Powell at Post (Union Square)', start_station_id=71, end_date=datetime.datetime(2013, 8, 29, 13, 10), end_station_name='Post at Kearney', end_station_id='47', bike_id=507, subscription_type='Subscriber', zip_code='94109')),\n",
              " ('San Francisco Caltrain 2 (330 Townsend)',\n",
              "  Trip(trip_id=4133, duration=1965, start_date=datetime.datetime(2013, 8, 29, 10, 17), start_station_name='San Francisco Caltrain 2 (330 Townsend)', start_station_id=69, end_date=datetime.datetime(2013, 8, 29, 10, 50), end_station_name='Powell Street BART', end_station_id='39', bike_id=316, subscription_type='Customer', zip_code='')),\n",
              " ('San Francisco Caltrain (Townsend at 4th)',\n",
              "  Trip(trip_id=4177, duration=278, start_date=datetime.datetime(2013, 8, 29, 11, 3), start_station_name='San Francisco Caltrain (Townsend at 4th)', start_station_id=70, end_date=datetime.datetime(2013, 8, 29, 11, 8), end_station_name='2nd at South Park', end_station_id='64', bike_id=371, subscription_type='Subscriber', zip_code='94117')),\n",
              " ('Harry Bridges Plaza (Ferry Building)',\n",
              "  Trip(trip_id=4278, duration=353, start_date=datetime.datetime(2013, 8, 29, 11, 52), start_station_name='Harry Bridges Plaza (Ferry Building)', start_station_id=50, end_date=datetime.datetime(2013, 8, 29, 11, 58), end_station_name='Commercial at Montgomery', end_station_id='45', bike_id=596, subscription_type='Subscriber', zip_code='94123')),\n",
              " ('Embarcadero at Sansome',\n",
              "  Trip(trip_id=4388, duration=3582, start_date=datetime.datetime(2013, 8, 29, 12, 33), start_station_name='Embarcadero at Sansome', start_station_id=60, end_date=datetime.datetime(2013, 8, 29, 13, 33), end_station_name='San Francisco City Hall', end_station_id='58', bike_id=462, subscription_type='Customer', zip_code='21144')),\n",
              " ('Embarcadero at Bryant',\n",
              "  Trip(trip_id=4558, duration=298, start_date=datetime.datetime(2013, 8, 29, 13, 57), start_station_name='Embarcadero at Bryant', start_station_id=54, end_date=datetime.datetime(2013, 8, 29, 14, 2), end_station_name='Harry Bridges Plaza (Ferry Building)', end_station_id='50', bike_id=275, subscription_type='Subscriber', zip_code='94109')),\n",
              " ('5th at Howard',\n",
              "  Trip(trip_id=4408, duration=385, start_date=datetime.datetime(2013, 8, 29, 12, 41), start_station_name='5th at Howard', start_station_id=57, end_date=datetime.datetime(2013, 8, 29, 12, 48), end_station_name='Powell at Post (Union Square)', end_station_id='71', bike_id=538, subscription_type='Customer', zip_code='37206')),\n",
              " ('Embarcadero at Folsom',\n",
              "  Trip(trip_id=4346, duration=724, start_date=datetime.datetime(2013, 8, 29, 12, 14), start_station_name='Embarcadero at Folsom', start_station_id=51, end_date=datetime.datetime(2013, 8, 29, 12, 26), end_station_name='San Francisco Caltrain (Townsend at 4th)', end_station_id='70', bike_id=267, subscription_type='Subscriber', zip_code='94127')),\n",
              " ('San Antonio Caltrain Station',\n",
              "  Trip(trip_id=4601, duration=953, start_date=datetime.datetime(2013, 8, 29, 14, 33), start_station_name='San Antonio Caltrain Station', start_station_id=29, end_date=datetime.datetime(2013, 8, 29, 14, 49), end_station_name='Mountain View Caltrain Station', end_station_id='28', bike_id=165, subscription_type='Subscriber', zip_code='94301')),\n",
              " ('Rengstorff Avenue / California Street',\n",
              "  Trip(trip_id=5007, duration=1016, start_date=datetime.datetime(2013, 8, 29, 20, 11), start_station_name='Rengstorff Avenue / California Street', start_station_id=33, end_date=datetime.datetime(2013, 8, 29, 20, 28), end_station_name='Rengstorff Avenue / California Street', end_station_id='33', bike_id=11, subscription_type='Customer', zip_code='94040')),\n",
              " ('Arena Green / SAP Center',\n",
              "  Trip(trip_id=4365, duration=1094, start_date=datetime.datetime(2013, 8, 29, 12, 24), start_station_name='Arena Green / SAP Center', start_station_id=14, end_date=datetime.datetime(2013, 8, 29, 12, 42), end_station_name='Arena Green / SAP Center', end_station_id='14', bike_id=647, subscription_type='Subscriber', zip_code='95126')),\n",
              " ('SJSU 4th at San Carlos',\n",
              "  Trip(trip_id=4394, duration=1309, start_date=datetime.datetime(2013, 8, 29, 12, 34), start_station_name='SJSU 4th at San Carlos', start_station_id=12, end_date=datetime.datetime(2013, 8, 29, 12, 56), end_station_name='San Salvador at 1st', end_station_id='8', bike_id=46, subscription_type='Subscriber', zip_code='95112')),\n",
              " ('Franklin at Maple',\n",
              "  Trip(trip_id=4957, duration=1969, start_date=datetime.datetime(2013, 8, 29, 19, 17), start_station_name='Franklin at Maple', start_station_id=21, end_date=datetime.datetime(2013, 8, 29, 19, 50), end_station_name='Franklin at Maple', end_station_id='21', bike_id=159, subscription_type='Customer', zip_code='94063')),\n",
              " ('Broadway at Main',\n",
              "  Trip(trip_id=6483, duration=221, start_date=datetime.datetime(2013, 8, 31, 0, 23), start_station_name='Broadway at Main', start_station_id=25, end_date=datetime.datetime(2013, 8, 31, 0, 27), end_station_name='Franklin at Maple', end_station_id='21', bike_id=207, subscription_type='Subscriber', zip_code='94063')),\n",
              " ('Castro Street and El Camino Real',\n",
              "  Trip(trip_id=140848, duration=318, start_date=datetime.datetime(2014, 1, 2, 17, 19), start_station_name='Castro Street and El Camino Real', start_station_id=32, end_date=datetime.datetime(2014, 1, 2, 17, 24), end_station_name='Mountain View Caltrain Station', end_station_id='28', bike_id=134, subscription_type='Subscriber', zip_code='94040')),\n",
              " ('Mezes Park',\n",
              "  Trip(trip_id=192527, duration=530, start_date=datetime.datetime(2014, 2, 22, 9, 59), start_station_name='Mezes Park', start_station_id=83, end_date=datetime.datetime(2014, 2, 22, 10, 8), end_station_name='Redwood City Medical Center', end_station_id='26', bike_id=237, subscription_type='Customer', zip_code='94063')),\n",
              " ('Washington at Kearny',\n",
              "  Trip(trip_id=198785, duration=880, start_date=datetime.datetime(2014, 3, 1, 2, 51), start_station_name='Washington at Kearny', start_station_id=46, end_date=datetime.datetime(2014, 3, 1, 3, 5), end_station_name='Harry Bridges Plaza (Ferry Building)', end_station_id='50', bike_id=378, subscription_type='Customer', zip_code='94044')),\n",
              " ('Mountain View City Hall',\n",
              "  Trip(trip_id=4081, duration=218, start_date=datetime.datetime(2013, 8, 29, 9, 38), start_station_name='Mountain View City Hall', start_station_id=27, end_date=datetime.datetime(2013, 8, 29, 9, 41), end_station_name='Mountain View City Hall', end_station_id='27', bike_id=150, subscription_type='Subscriber', zip_code='97214')),\n",
              " ('Golden Gate at Polk',\n",
              "  Trip(trip_id=4572, duration=4331, start_date=datetime.datetime(2013, 8, 29, 14, 7), start_station_name='Golden Gate at Polk', start_station_id=59, end_date=datetime.datetime(2013, 8, 29, 15, 20), end_station_name='Post at Kearney', end_station_id='47', bike_id=373, subscription_type='Customer', zip_code='94109')),\n",
              " ('2nd at South Park',\n",
              "  Trip(trip_id=4069, duration=174, start_date=datetime.datetime(2013, 8, 29, 9, 8), start_station_name='2nd at South Park', start_station_id=64, end_date=datetime.datetime(2013, 8, 29, 9, 11), end_station_name='2nd at South Park', end_station_id='64', bike_id=288, subscription_type='Subscriber', zip_code='94114')),\n",
              " ('Redwood City Caltrain Station',\n",
              "  Trip(trip_id=4078, duration=3829, start_date=datetime.datetime(2013, 8, 29, 9, 31), start_station_name='Redwood City Caltrain Station', start_station_id=22, end_date=datetime.datetime(2013, 8, 29, 10, 34), end_station_name='Redwood City Caltrain Station', end_station_id='22', bike_id=228, subscription_type='Customer', zip_code='94062')),\n",
              " ('San Francisco City Hall',\n",
              "  Trip(trip_id=4265, duration=151, start_date=datetime.datetime(2013, 8, 29, 11, 40), start_station_name='San Francisco City Hall', start_station_id=58, end_date=datetime.datetime(2013, 8, 29, 11, 42), end_station_name='San Francisco City Hall', end_station_id='58', bike_id=520, subscription_type='Subscriber', zip_code='94110')),\n",
              " ('Redwood City Medical Center',\n",
              "  Trip(trip_id=4917, duration=169, start_date=datetime.datetime(2013, 8, 29, 18, 45), start_station_name='Redwood City Medical Center', start_station_id=26, end_date=datetime.datetime(2013, 8, 29, 18, 48), end_station_name='Broadway at Main', end_station_id='25', bike_id=229, subscription_type='Subscriber', zip_code='94041')),\n",
              " ('University and Emerson',\n",
              "  Trip(trip_id=4116, duration=1213, start_date=datetime.datetime(2013, 8, 29, 10, 11), start_station_name='University and Emerson', start_station_id=35, end_date=datetime.datetime(2013, 8, 29, 10, 32), end_station_name='California Ave Caltrain Station', end_station_id='36', bike_id=83, subscription_type='Subscriber', zip_code='95112')),\n",
              " ('Adobe on Almaden',\n",
              "  Trip(trip_id=4419, duration=556, start_date=datetime.datetime(2013, 8, 29, 12, 45), start_station_name='Adobe on Almaden', start_station_id=5, end_date=datetime.datetime(2013, 8, 29, 12, 55), end_station_name='San Jose Civic Center', end_station_id='3', bike_id=671, subscription_type='Subscriber', zip_code='94536')),\n",
              " ('MLK Library',\n",
              "  Trip(trip_id=4379, duration=610, start_date=datetime.datetime(2013, 8, 29, 12, 29), start_station_name='MLK Library', start_station_id=11, end_date=datetime.datetime(2013, 8, 29, 12, 39), end_station_name='MLK Library', end_station_id='11', bike_id=669, subscription_type='Subscriber', zip_code='95112')),\n",
              " ('Market at Sansome',\n",
              "  Trip(trip_id=4320, duration=520, start_date=datetime.datetime(2013, 8, 29, 12, 10), start_station_name='Market at Sansome', start_station_id=77, end_date=datetime.datetime(2013, 8, 29, 12, 19), end_station_name='Harry Bridges Plaza (Ferry Building)', end_station_id='50', bike_id=616, subscription_type='Subscriber', zip_code='94109')),\n",
              " ('Cowper at University',\n",
              "  Trip(trip_id=4298, duration=460, start_date=datetime.datetime(2013, 8, 29, 12, 2), start_station_name='Cowper at University', start_station_id=37, end_date=datetime.datetime(2013, 8, 29, 12, 10), end_station_name='University and Emerson', end_station_id='35', bike_id=9, subscription_type='Subscriber', zip_code='94025')),\n",
              " ('St James Park',\n",
              "  Trip(trip_id=4612, duration=376, start_date=datetime.datetime(2013, 8, 29, 14, 46), start_station_name='St James Park', start_station_id=13, end_date=datetime.datetime(2013, 8, 29, 14, 53), end_station_name='Japantown', end_station_id='9', bike_id=188, subscription_type='Subscriber', zip_code='95112')),\n",
              " ('San Jose Diridon Caltrain Station',\n",
              "  Trip(trip_id=4547, duration=1580, start_date=datetime.datetime(2013, 8, 29, 13, 52), start_station_name='San Jose Diridon Caltrain Station', start_station_id=2, end_date=datetime.datetime(2013, 8, 29, 14, 18), end_station_name='San Jose City Hall', end_station_id='10', bike_id=107, subscription_type='Customer', zip_code='94306')),\n",
              " ('California Ave Caltrain Station',\n",
              "  Trip(trip_id=4375, duration=880, start_date=datetime.datetime(2013, 8, 29, 12, 26), start_station_name='California Ave Caltrain Station', start_station_id=36, end_date=datetime.datetime(2013, 8, 29, 12, 41), end_station_name='University and Emerson', end_station_id='35', bike_id=161, subscription_type='Subscriber', zip_code='94040')),\n",
              " ('Park at Olive',\n",
              "  Trip(trip_id=5525, duration=422, start_date=datetime.datetime(2013, 8, 30, 12, 21), start_station_name='Park at Olive', start_station_id=38, end_date=datetime.datetime(2013, 8, 30, 12, 28), end_station_name='Park at Olive', end_station_id='38', bike_id=66, subscription_type='Customer', zip_code='94920')),\n",
              " ('San Antonio Shopping Center',\n",
              "  Trip(trip_id=141633, duration=1104, start_date=datetime.datetime(2014, 1, 3, 12, 21), start_station_name='San Antonio Shopping Center', start_station_id=31, end_date=datetime.datetime(2014, 1, 3, 12, 39), end_station_name='California Ave Caltrain Station', end_station_id='36', bike_id=64, subscription_type='Subscriber', zip_code='94301')),\n",
              " ('Ryland Park',\n",
              "  Trip(trip_id=243456, duration=330, start_date=datetime.datetime(2014, 4, 10, 9, 10), start_station_name='Ryland Park', start_station_id=84, end_date=datetime.datetime(2014, 4, 10, 9, 16), end_station_name='Japantown', end_station_id='9', bike_id=23, subscription_type='Subscriber', zip_code='95110')),\n",
              " ('Stanford in Redwood City',\n",
              "  Trip(trip_id=437188, duration=443, start_date=datetime.datetime(2014, 9, 3, 19, 41), start_station_name='Stanford in Redwood City', start_station_id=25, end_date=datetime.datetime(2014, 9, 3, 19, 48), end_station_name='Redwood City Caltrain Station', end_station_id='22', bike_id=103, subscription_type='Customer', zip_code='98110')),\n",
              " ('San Jose City Hall',\n",
              "  Trip(trip_id=4160, duration=1271, start_date=datetime.datetime(2013, 8, 29, 10, 42), start_station_name='San Jose City Hall', start_station_id=10, end_date=datetime.datetime(2013, 8, 29, 11, 3), end_station_name='San Jose City Hall', end_station_id='10', bike_id=680, subscription_type='Subscriber', zip_code='95112')),\n",
              " ('San Salvador at 1st',\n",
              "  Trip(trip_id=4517, duration=379, start_date=datetime.datetime(2013, 8, 29, 13, 34), start_station_name='San Salvador at 1st', start_station_id=8, end_date=datetime.datetime(2013, 8, 29, 13, 41), end_station_name='San Jose City Hall', end_station_id='10', bike_id=661, subscription_type='Subscriber', zip_code='95112')),\n",
              " ('Spear at Folsom',\n",
              "  Trip(trip_id=4166, duration=7138, start_date=datetime.datetime(2013, 8, 29, 10, 49), start_station_name='Spear at Folsom', start_station_id=49, end_date=datetime.datetime(2013, 8, 29, 12, 48), end_station_name='Spear at Folsom', end_station_id='49', bike_id=558, subscription_type='Customer', zip_code='94105')),\n",
              " ('San Pedro Square',\n",
              "  Trip(trip_id=4498, duration=126, start_date=datetime.datetime(2013, 8, 29, 13, 23), start_station_name='San Pedro Square', start_station_id=6, end_date=datetime.datetime(2013, 8, 29, 13, 25), end_station_name='Santa Clara at Almaden', end_station_id='4', bike_id=26, subscription_type='Subscriber', zip_code='95112')),\n",
              " ('Mountain View Caltrain Station',\n",
              "  Trip(trip_id=4505, duration=97713, start_date=datetime.datetime(2013, 8, 29, 13, 30), start_station_name='Mountain View Caltrain Station', start_station_id=28, end_date=datetime.datetime(2013, 8, 30, 16, 38), end_station_name='Mountain View City Hall', end_station_id='27', bike_id=141, subscription_type='Subscriber', zip_code='94039')),\n",
              " ('Post at Kearney',\n",
              "  Trip(trip_id=4279, duration=1105, start_date=datetime.datetime(2013, 8, 29, 11, 53), start_station_name='Post at Kearney', start_station_id=47, end_date=datetime.datetime(2013, 8, 29, 12, 12), end_station_name='Post at Kearney', end_station_id='47', bike_id=602, subscription_type='Subscriber', zip_code='94114')),\n",
              " ('Steuart at Market',\n",
              "  Trip(trip_id=4289, duration=970, start_date=datetime.datetime(2013, 8, 29, 11, 58), start_station_name='Steuart at Market', start_station_id=74, end_date=datetime.datetime(2013, 8, 29, 12, 14), end_station_name='Steuart at Market', end_station_id='74', bike_id=570, subscription_type='Subscriber', zip_code='94109')),\n",
              " ('Beale at Market',\n",
              "  Trip(trip_id=4168, duration=161, start_date=datetime.datetime(2013, 8, 29, 10, 56), start_station_name='Beale at Market', start_station_id=56, end_date=datetime.datetime(2013, 8, 29, 10, 59), end_station_name='Steuart at Market', end_station_id='74', bike_id=414, subscription_type='Customer', zip_code='94117')),\n",
              " ('Temporary Transbay Terminal (Howard at Beale)',\n",
              "  Trip(trip_id=4313, duration=5709, start_date=datetime.datetime(2013, 8, 29, 12, 6), start_station_name='Temporary Transbay Terminal (Howard at Beale)', start_station_id=55, end_date=datetime.datetime(2013, 8, 29, 13, 41), end_station_name='Temporary Transbay Terminal (Howard at Beale)', end_station_id='55', bike_id=352, subscription_type='Customer', zip_code='')),\n",
              " ('San Jose Civic Center',\n",
              "  Trip(trip_id=4510, duration=166, start_date=datetime.datetime(2013, 8, 29, 13, 31), start_station_name='San Jose Civic Center', start_station_id=3, end_date=datetime.datetime(2013, 8, 29, 13, 34), end_station_name='San Salvador at 1st', end_station_id='8', bike_id=661, subscription_type='Subscriber', zip_code='95112')),\n",
              " ('2nd at Folsom',\n",
              "  Trip(trip_id=4390, duration=825, start_date=datetime.datetime(2013, 8, 29, 12, 33), start_station_name='2nd at Folsom', start_station_id=62, end_date=datetime.datetime(2013, 8, 29, 12, 47), end_station_name='2nd at South Park', end_station_id='64', bike_id=331, subscription_type='Subscriber', zip_code='94518')),\n",
              " ('Yerba Buena Center of the Arts (3rd @ Howard)',\n",
              "  Trip(trip_id=4355, duration=2044, start_date=datetime.datetime(2013, 8, 29, 12, 18), start_station_name='Yerba Buena Center of the Arts (3rd @ Howard)', start_station_id=68, end_date=datetime.datetime(2013, 8, 29, 12, 52), end_station_name='Yerba Buena Center of the Arts (3rd @ Howard)', end_station_id='68', bike_id=548, subscription_type='Customer', zip_code='94105')),\n",
              " ('Grant Avenue at Columbus Avenue',\n",
              "  Trip(trip_id=4123, duration=500, start_date=datetime.datetime(2013, 8, 29, 10, 14), start_station_name='Grant Avenue at Columbus Avenue', start_station_id=73, end_date=datetime.datetime(2013, 8, 29, 10, 22), end_station_name='Clay at Battery', end_station_id='41', bike_id=503, subscription_type='Subscriber', zip_code='94115')),\n",
              " ('Embarcadero at Vallejo',\n",
              "  Trip(trip_id=4190, duration=18240, start_date=datetime.datetime(2013, 8, 29, 11, 4), start_station_name='Embarcadero at Vallejo', start_station_id=48, end_date=datetime.datetime(2013, 8, 29, 16, 8), end_station_name='Market at Sansome', end_station_id='77', bike_id=614, subscription_type='Customer', zip_code='72150')),\n",
              " ('Mechanics Plaza (Market at Battery)',\n",
              "  Trip(trip_id=4125, duration=464, start_date=datetime.datetime(2013, 8, 29, 10, 14), start_station_name='Mechanics Plaza (Market at Battery)', start_station_id=75, end_date=datetime.datetime(2013, 8, 29, 10, 22), end_station_name='Powell at Post (Union Square)', end_station_id='71', bike_id=528, subscription_type='Subscriber', zip_code='94110')),\n",
              " ('Townsend at 7th',\n",
              "  Trip(trip_id=4315, duration=1432, start_date=datetime.datetime(2013, 8, 29, 12, 7), start_station_name='Townsend at 7th', start_station_id=65, end_date=datetime.datetime(2013, 8, 29, 12, 31), end_station_name='5th at Howard', end_station_id='57', bike_id=538, subscription_type='Customer', zip_code='37206')),\n",
              " ('Evelyn Park and Ride',\n",
              "  Trip(trip_id=4743, duration=267, start_date=datetime.datetime(2013, 8, 29, 16, 51), start_station_name='Evelyn Park and Ride', start_station_id=30, end_date=datetime.datetime(2013, 8, 29, 16, 55), end_station_name='Mountain View Caltrain Station', end_station_id='28', bike_id=54, subscription_type='Customer', zip_code='94107')),\n",
              " ('Davis at Jackson',\n",
              "  Trip(trip_id=4302, duration=2138, start_date=datetime.datetime(2013, 8, 29, 11, 58), start_station_name='Davis at Jackson', start_station_id=42, end_date=datetime.datetime(2013, 8, 29, 12, 33), end_station_name='Market at 4th', end_station_id='76', bike_id=615, subscription_type='Subscriber', zip_code='94129')),\n",
              " ('Palo Alto Caltrain Station',\n",
              "  Trip(trip_id=4373, duration=1083, start_date=datetime.datetime(2013, 8, 29, 12, 22), start_station_name='Palo Alto Caltrain Station', start_station_id=34, end_date=datetime.datetime(2013, 8, 29, 12, 40), end_station_name='University and Emerson', end_station_id='35', bike_id=83, subscription_type='Subscriber', zip_code='94117')),\n",
              " ('San Mateo County Center',\n",
              "  Trip(trip_id=4766, duration=315, start_date=datetime.datetime(2013, 8, 29, 17, 5), start_station_name='San Mateo County Center', start_station_id=23, end_date=datetime.datetime(2013, 8, 29, 17, 10), end_station_name='San Mateo County Center', end_station_id='23', bike_id=227, subscription_type='Subscriber', zip_code='94402')),\n",
              " ('Howard at 2nd',\n",
              "  Trip(trip_id=4525, duration=650, start_date=datetime.datetime(2013, 8, 29, 13, 39), start_station_name='Howard at 2nd', start_station_id=63, end_date=datetime.datetime(2013, 8, 29, 13, 50), end_station_name='San Francisco Caltrain (Townsend at 4th)', end_station_id='70', bike_id=359, subscription_type='Subscriber', zip_code='94401')),\n",
              " ('Paseo de San Antonio',\n",
              "  Trip(trip_id=4528, duration=12280, start_date=datetime.datetime(2013, 8, 29, 13, 39), start_station_name='Paseo de San Antonio', start_station_id=7, end_date=datetime.datetime(2013, 8, 29, 17, 4), end_station_name='Adobe on Almaden', end_station_id='5', bike_id=645, subscription_type='Subscriber', zip_code='94536')),\n",
              " ('Redwood City Public Library',\n",
              "  Trip(trip_id=5590, duration=449, start_date=datetime.datetime(2013, 8, 30, 13, 0), start_station_name='Redwood City Public Library', start_station_id=24, end_date=datetime.datetime(2013, 8, 30, 13, 7), end_station_name='San Mateo County Center', end_station_id='23', bike_id=233, subscription_type='Subscriber', zip_code='94402')),\n",
              " ('SJSU - San Salvador at 9th',\n",
              "  Trip(trip_id=6210, duration=608, start_date=datetime.datetime(2013, 8, 30, 17, 15), start_station_name='SJSU - San Salvador at 9th', start_station_id=16, end_date=datetime.datetime(2013, 8, 30, 17, 26), end_station_name='San Salvador at 1st', end_station_id='8', bike_id=12, subscription_type='Customer', zip_code='95112')),\n",
              " ('San Jose Government Center',\n",
              "  Trip(trip_id=140847, duration=413, start_date=datetime.datetime(2014, 1, 2, 17, 19), start_station_name='San Jose Government Center', start_station_id=80, end_date=datetime.datetime(2014, 1, 2, 17, 25), end_station_name='Japantown', end_station_id='9', bike_id=709, subscription_type='Subscriber', zip_code='95112')),\n",
              " ('Broadway St at Battery St',\n",
              "  Trip(trip_id=161546, duration=289, start_date=datetime.datetime(2014, 1, 22, 9, 1), start_station_name='Broadway St at Battery St', start_station_id=82, end_date=datetime.datetime(2014, 1, 22, 9, 6), end_station_name='Market at Sansome', end_station_id='77', bike_id=374, subscription_type='Subscriber', zip_code='94597')),\n",
              " ('Post at Kearny',\n",
              "  Trip(trip_id=198954, duration=737, start_date=datetime.datetime(2014, 3, 1, 12, 34), start_station_name='Post at Kearny', start_station_id=47, end_date=datetime.datetime(2014, 3, 1, 12, 47), end_station_name='Townsend at 7th', end_station_id='65', bike_id=479, subscription_type='Subscriber', zip_code='94108')),\n",
              " ('Santa Clara County Civic Center',\n",
              "  Trip(trip_id=206440, duration=169308, start_date=datetime.datetime(2014, 3, 8, 13, 49), start_station_name='Santa Clara County Civic Center', start_station_id=80, end_date=datetime.datetime(2014, 3, 10, 13, 51), end_station_name='California Ave Caltrain Station', end_station_id='36', bike_id=242, subscription_type='Customer', zip_code='95035'))]"
            ]
          },
          "metadata": {},
          "execution_count": 25
        }
      ],
      "source": [
        "first_trip.collect()"
      ]
    },
    {
      "cell_type": "markdown",
      "metadata": {
        "id": "_VSPDWQpOj93"
      },
      "source": [
        "## 6. Выполненная лабораторная работа"
      ]
    },
    {
      "cell_type": "markdown",
      "metadata": {
        "id": "HsvN3lrDOnuJ"
      },
      "source": [
        "### I. Велосипед с максимальным пробегом"
      ]
    },
    {
      "cell_type": "code",
      "execution_count": 26,
      "metadata": {
        "id": "LpuaHv1VObAE"
      },
      "outputs": [],
      "source": [
        "bike_max_mileage = trips_.keyBy(lambda x: x.bike_id)"
      ]
    },
    {
      "cell_type": "code",
      "execution_count": 27,
      "metadata": {
        "id": "hxKPX1nNVEO8"
      },
      "outputs": [],
      "source": [
        "bike_duration = bike_max_mileage.mapValues(lambda x: x.duration).reduceByKey(lambda x1, x2: x1 + x2)"
      ]
    },
    {
      "cell_type": "code",
      "execution_count": 28,
      "metadata": {
        "id": "B0ABzqxqVVA2"
      },
      "outputs": [],
      "source": [
        "bike_duration_top = bike_duration.top(1, key=lambda x: x[1])[0][0]"
      ]
    },
    {
      "cell_type": "code",
      "execution_count": 29,
      "metadata": {
        "colab": {
          "base_uri": "https://localhost:8080/"
        },
        "id": "xCgbWSuuVbzX",
        "outputId": "c5ea7573-7c66-4f4f-b69a-83d4df31af8f"
      },
      "outputs": [
        {
          "output_type": "execute_result",
          "data": {
            "text/plain": [
              "535"
            ]
          },
          "metadata": {},
          "execution_count": 29
        }
      ],
      "source": [
        "bike_duration_top"
      ]
    },
    {
      "cell_type": "markdown",
      "metadata": {
        "id": "WLjvT1ztWMbH"
      },
      "source": [
        "### II. Найти наибольшее расстояние между станциями"
      ]
    },
    {
      "cell_type": "code",
      "source": [
        "from math import *\n",
        "\n",
        "\n",
        "def distance_between_stations(latitude1, longitude1, latitude2, longitude2):\n",
        "  earth_radius = 6371.0088\n",
        "  latitude1, longitude1 = radians(latitude1), radians(longitude1)\n",
        "  latitude2, longitude2 = radians(latitude2), radians(longitude2)\n",
        "\n",
        "  difference_latitude = latitude2 - latitude1\n",
        "  difference_longitude = longitude2 - longitude1\n",
        "  \n",
        "  haversinus_latitutde = (sin(difference_latitude / 2)) ** 2\n",
        "  haversinus_longitude = (sin(difference_longitude / 2)) ** 2\n",
        "  \n",
        "  return 2 * earth_radius * sqrt(haversinus_latitutde + cos(latitude1)\\\n",
        "                                 * cos(latitude2) * haversinus_longitude)\n",
        "\n"
      ],
      "metadata": {
        "id": "APot0-HOr9bC"
      },
      "execution_count": 30,
      "outputs": []
    },
    {
      "cell_type": "code",
      "source": [
        "distance = stations_.cartesian(stations_)\\\n",
        "                         .filter(lambda x: x[0].station_id != x[1].station_id)\\\n",
        "                         .map(lambda x: [x[0], x[1], distance_between_stations(x[0].lat, x[0].long, x[1].lat, x[1].long)])\\\n",
        "                         .keyBy(lambda x: (x[0].name, x[1].name))\\\n",
        "                         .reduce(lambda x1, x2: x1 if x1[1] > x2[1] else x2)"
      ],
      "metadata": {
        "id": "AWWlCCYHt4-F"
      },
      "execution_count": 31,
      "outputs": []
    },
    {
      "cell_type": "code",
      "source": [
        "print(f\"Максимальное расстояние между станциями: {distance[0]}, {distance[1][2]}.\")"
      ],
      "metadata": {
        "colab": {
          "base_uri": "https://localhost:8080/"
        },
        "id": "YrCrfa1VuYZ4",
        "outputId": "d25afe69-a9b1-42fe-dc4d-40f40bc42fa5"
      },
      "execution_count": 32,
      "outputs": [
        {
          "output_type": "stream",
          "name": "stdout",
          "text": [
            "Максимальное расстояние между станциями: ('Ryland Park', 'Mezes Park'), 34.317914350160784.\n"
          ]
        }
      ]
    },
    {
      "cell_type": "markdown",
      "metadata": {
        "id": "L8ncWAYoZA61"
      },
      "source": [
        "### III. Найти путь велосипеда с максимальным пробегом через станции"
      ]
    },
    {
      "cell_type": "code",
      "execution_count": 33,
      "metadata": {
        "id": "ahFhq1IoXQfl"
      },
      "outputs": [],
      "source": [
        "bike_path = trips_.filter(lambda x: x.bike_id == bike_duration_top)\\\n",
        ".sortBy(lambda x: x.start_date).map(lambda x: (x.start_station_name, x.end_station_name))"
      ]
    },
    {
      "cell_type": "code",
      "execution_count": 34,
      "metadata": {
        "colab": {
          "base_uri": "https://localhost:8080/"
        },
        "id": "dZs2wb5fayHt",
        "outputId": "bb618ff2-c312-4c4c-aa34-5780a4da55b0"
      },
      "outputs": [
        {
          "output_type": "execute_result",
          "data": {
            "text/plain": [
              "('Post at Kearney', 'San Francisco Caltrain (Townsend at 4th)')"
            ]
          },
          "metadata": {},
          "execution_count": 34
        }
      ],
      "source": [
        "bike_path.first()"
      ]
    },
    {
      "cell_type": "markdown",
      "metadata": {
        "id": "tVyIAFdEb7vg"
      },
      "source": [
        "### IV. Найти количество велосипедов в системе."
      ]
    },
    {
      "cell_type": "code",
      "execution_count": 35,
      "metadata": {
        "id": "YKoSrOdGa7QS"
      },
      "outputs": [],
      "source": [
        "count_bikes = trips_.map(lambda x: x.bike_id).distinct().count()"
      ]
    },
    {
      "cell_type": "code",
      "execution_count": 36,
      "metadata": {
        "colab": {
          "base_uri": "https://localhost:8080/"
        },
        "id": "YS0PEJlLcFyG",
        "outputId": "f728f566-10d2-4d60-d4fd-8067c8a6d0b9"
      },
      "outputs": [
        {
          "output_type": "execute_result",
          "data": {
            "text/plain": [
              "700"
            ]
          },
          "metadata": {},
          "execution_count": 36
        }
      ],
      "source": [
        "count_bikes"
      ]
    },
    {
      "cell_type": "markdown",
      "metadata": {
        "id": "G2-rgffBcQTm"
      },
      "source": [
        "## V. Найти пользователей потративших на поездки более 3 часов."
      ]
    },
    {
      "cell_type": "code",
      "execution_count": 37,
      "metadata": {
        "id": "JOp5WgM7cLb2"
      },
      "outputs": [],
      "source": [
        "users = trips_.filter(lambda x: x.duration > (3 * 60 * 60))\\\n",
        ".map(lambda x: x.zip_code).filter(lambda x: x != \"\").distinct()"
      ]
    },
    {
      "cell_type": "code",
      "execution_count": 38,
      "metadata": {
        "colab": {
          "base_uri": "https://localhost:8080/"
        },
        "id": "gLfNKiUGdCc0",
        "outputId": "94856fb9-6661-48c1-f876-b095c4189e7e"
      },
      "outputs": [
        {
          "output_type": "execute_result",
          "data": {
            "text/plain": [
              "['58553',\n",
              " '94301',\n",
              " '94039',\n",
              " '94133',\n",
              " '93726',\n",
              " '94123',\n",
              " '4517',\n",
              " '29200',\n",
              " '45322',\n",
              " '94080']"
            ]
          },
          "metadata": {},
          "execution_count": 38
        }
      ],
      "source": [
        "users.take(10)"
      ]
    },
    {
      "cell_type": "code",
      "source": [
        ""
      ],
      "metadata": {
        "id": "od7yfF0_1WaC"
      },
      "execution_count": 38,
      "outputs": []
    }
  ],
  "metadata": {
    "colab": {
      "collapsed_sections": [],
      "name": "L1 Introduction to Apache Spark.ipynb",
      "provenance": []
    },
    "kernelspec": {
      "display_name": "Python 3 (ipykernel)",
      "language": "python",
      "name": "python3"
    },
    "language_info": {
      "codemirror_mode": {
        "name": "ipython",
        "version": 3
      },
      "file_extension": ".py",
      "mimetype": "text/x-python",
      "name": "python",
      "nbconvert_exporter": "python",
      "pygments_lexer": "ipython3",
      "version": "3.9.7"
    }
  },
  "nbformat": 4,
  "nbformat_minor": 0
}